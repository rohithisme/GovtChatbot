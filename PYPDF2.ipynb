{
 "cells": [
  {
   "cell_type": "code",
   "execution_count": 3,
   "id": "84a773ec",
   "metadata": {},
   "outputs": [
    {
     "name": "stderr",
     "output_type": "stream",
     "text": [
      "Extracting with PyPDF2: 100%|█████████████████████████████████████████████████████████████████████████████████████████████████████████████████| 379/379 [00:01<00:00, 204.12it/s]"
     ]
    },
    {
     "name": "stdout",
     "output_type": "stream",
     "text": [
      "Data extracted and saved to Extracted/KSR_Vol_1_pypdf2_extracted.txt\n"
     ]
    },
    {
     "name": "stderr",
     "output_type": "stream",
     "text": [
      "\n"
     ]
    }
   ],
   "source": [
    "import os\n",
    "import PyPDF2\n",
    "from tqdm import tqdm\n",
    "\n",
    "# Path to the input and output files\n",
    "input_pdf_path = 'Documents/KSR Vol 1 trimmed.pdf'\n",
    "output_txt_path = 'Extracted/KSR_Vol_1_pypdf2_extracted.txt'\n",
    "\n",
    "# Open the PDF file\n",
    "with open(input_pdf_path, 'rb') as pdf_file:\n",
    "    # Create a PDF reader\n",
    "    pdf_reader = PyPDF2.PdfReader(pdf_file)\n",
    "    \n",
    "    # Total number of pages\n",
    "    num_pages = len(pdf_reader.pages)\n",
    "    \n",
    "    # Initialize an empty string for the extracted text\n",
    "    extracted_text = \"\"\n",
    "    \n",
    "    # Iterate through the pages with tqdm for progress display\n",
    "    for i in tqdm(range(num_pages), desc=\"Extracting with PyPDF2\"):\n",
    "        page = pdf_reader.pages[i]\n",
    "        extracted_text += page.extract_text() + \"\\n\"\n",
    "    \n",
    "    # Save the extracted text to a file\n",
    "    with open(output_txt_path, 'w', encoding='utf-8') as text_file:\n",
    "        text_file.write(extracted_text)\n",
    "\n",
    "print(f\"Data extracted and saved to {output_txt_path}\")\n"
   ]
  },
  {
   "cell_type": "code",
   "execution_count": 2,
   "id": "59215b95",
   "metadata": {},
   "outputs": [
    {
     "name": "stdout",
     "output_type": "stream",
     "text": [
      "Looking in indexes: https://pypi.org/simple, https://pypi.ngc.nvidia.com\n",
      "Collecting pypdf2\n",
      "  Downloading pypdf2-3.0.1-py3-none-any.whl (232 kB)\n",
      "\u001b[K     |████████████████████████████████| 232 kB 3.6 MB/s eta 0:00:01\n",
      "\u001b[?25hRequirement already satisfied: typing_extensions>=3.10.0.0 in /usr/local/lib/python3.8/dist-packages (from pypdf2) (4.4.0)\n",
      "Installing collected packages: pypdf2\n",
      "Successfully installed pypdf2-3.0.1\n",
      "\u001b[33mWARNING: Running pip as the 'root' user can result in broken permissions and conflicting behaviour with the system package manager. It is recommended to use a virtual environment instead: https://pip.pypa.io/warnings/venv\u001b[0m\n",
      "\u001b[33mWARNING: You are using pip version 21.2.4; however, version 24.3.1 is available.\n",
      "You should consider upgrading via the '/usr/bin/python -m pip install --upgrade pip' command.\u001b[0m\n",
      "Note: you may need to restart the kernel to use updated packages.\n"
     ]
    }
   ],
   "source": [
    "pip install pypdf2"
   ]
  }
 ],
 "metadata": {
  "kernelspec": {
   "display_name": "Python 3 (ipykernel)",
   "language": "python",
   "name": "python3"
  },
  "language_info": {
   "codemirror_mode": {
    "name": "ipython",
    "version": 3
   },
   "file_extension": ".py",
   "mimetype": "text/x-python",
   "name": "python",
   "nbconvert_exporter": "python",
   "pygments_lexer": "ipython3",
   "version": "3.8.10"
  }
 },
 "nbformat": 4,
 "nbformat_minor": 5
}
