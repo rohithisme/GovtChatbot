{
 "cells": [
  {
   "cell_type": "code",
   "execution_count": 1,
   "id": "498a3328",
   "metadata": {},
   "outputs": [
    {
     "name": "stderr",
     "output_type": "stream",
     "text": [
      "/usr/local/lib/python3.8/dist-packages/sentence_transformers/cross_encoder/CrossEncoder.py:13: TqdmExperimentalWarning: Using `tqdm.autonotebook.tqdm` in notebook mode. Use `tqdm.tqdm` instead to force console mode (e.g. in jupyter console)\n",
      "  from tqdm.autonotebook import tqdm, trange\n"
     ]
    },
    {
     "name": "stdout",
     "output_type": "stream",
     "text": [
      "Loading files...\n"
     ]
    },
    {
     "name": "stderr",
     "output_type": "stream",
     "text": [
      "Loading files: 100%|███████████████████████████████████████████████████████████████████████████████████████████████████████████████████████████████| 2/2 [00:00<00:00, 60.71it/s]\n",
      "Preparing texts: 100%|███████████████████████████████████████████████████████████████████████████████████████████████████████████████████| 6293/6293 [00:00<00:00, 473507.98it/s]"
     ]
    },
    {
     "name": "stdout",
     "output_type": "stream",
     "text": [
      "Creating embeddings for 6293 documents...\n",
      "Using model: bert-base-multilingual-cased\n"
     ]
    },
    {
     "name": "stderr",
     "output_type": "stream",
     "text": [
      "\n",
      "No sentence-transformers model found with name bert-base-multilingual-cased. Creating a new one with mean pooling.\n"
     ]
    },
    {
     "name": "stdout",
     "output_type": "stream",
     "text": [
      "Generating embeddings...\n"
     ]
    },
    {
     "data": {
      "application/vnd.jupyter.widget-view+json": {
       "model_id": "63f9f6557c784a14abc250020e5412ae",
       "version_major": 2,
       "version_minor": 0
      },
      "text/plain": [
       "Batches:   0%|          | 0/394 [00:00<?, ?it/s]"
      ]
     },
     "metadata": {},
     "output_type": "display_data"
    },
    {
     "name": "stdout",
     "output_type": "stream",
     "text": [
      "Creating and saving FAISS index...\n",
      "Creating FAISS index with dimension 768\n",
      "Creating FlatL2 index...\n",
      "Adding vectors to index...\n"
     ]
    },
    {
     "name": "stderr",
     "output_type": "stream",
     "text": [
      "Adding to FAISS: 100%|████████████████████████████████████████████████████████████████████████████████████████████████████████████████████████████| 7/7 [00:00<00:00, 389.39it/s]\n"
     ]
    },
    {
     "name": "stdout",
     "output_type": "stream",
     "text": [
      "Index saved to /workspace/Malayalam/vector_db/embeddings.faiss\n",
      "Saving metadata...\n"
     ]
    },
    {
     "name": "stderr",
     "output_type": "stream",
     "text": [
      "Saving metadata: 100%|█████████████████████████████████████████████████████████████████████████████████████████████████████████████████████████████| 1/1 [00:00<00:00,  7.61it/s]"
     ]
    },
    {
     "name": "stdout",
     "output_type": "stream",
     "text": [
      "Metadata saved to /workspace/Malayalam/vector_db/metadata.json\n",
      "\n",
      "Summary:\n",
      "- Processed 6293 documents\n",
      "- Created 768-dimensional embeddings\n",
      "- Index and metadata saved in /workspace/Malayalam/vector_db\n"
     ]
    },
    {
     "name": "stderr",
     "output_type": "stream",
     "text": [
      "\n"
     ]
    }
   ],
   "source": [
    "import json\n",
    "import faiss\n",
    "import numpy as np\n",
    "from sentence_transformers import SentenceTransformer\n",
    "import os\n",
    "from pathlib import Path\n",
    "from tqdm import tqdm\n",
    "\n",
    "def load_files(summaries_path, metadata_path):\n",
    "    \"\"\"Load both summaries and metadata files.\"\"\"\n",
    "    with open(summaries_path, 'r') as f:\n",
    "        summaries = json.load(f)\n",
    "    with open(metadata_path, 'r') as f:\n",
    "        metadata = json.load(f)\n",
    "    return summaries, metadata\n",
    "\n",
    "def prepare_texts(summaries, metadata):\n",
    "    \"\"\"Prepare texts for embedding by combining summaries with key metadata.\"\"\"\n",
    "    texts = []\n",
    "    processed_metadata = []\n",
    "    \n",
    "    # Add tqdm progress bar for text preparation\n",
    "    for idx, (summary_obj, meta) in enumerate(tqdm(zip(summaries, metadata), \n",
    "                                                  total=len(summaries),\n",
    "                                                  desc=\"Preparing texts\")):\n",
    "        # Extract summary text from object\n",
    "        summary = list(summary_obj)[0]  # Since each summary is stored as a single-item set\n",
    "        \n",
    "        # Create enriched text for embedding\n",
    "        text_parts = [\n",
    "            summary,\n",
    "            f\"Rule {meta.get('Rule no.', '')}\" if meta.get('Rule no.') else '',\n",
    "            meta.get('Description', '')\n",
    "        ]\n",
    "        text = ' '.join(filter(None, text_parts))\n",
    "        \n",
    "        if text.strip():\n",
    "            texts.append(text)\n",
    "            # Keep original metadata structure and add index\n",
    "            meta_entry = meta.copy()\n",
    "            meta_entry['summary'] = summary\n",
    "            processed_metadata.append(meta_entry)\n",
    "    \n",
    "    return texts, processed_metadata\n",
    "\n",
    "def create_embeddings(texts, model_name='bert-base-multilingual-cased', batch_size=16):\n",
    "    \"\"\"Create embeddings using mBERT via SentenceTransformer.\"\"\"\n",
    "    print(f\"Using model: {model_name}\")\n",
    "    model = SentenceTransformer(model_name, device='cpu')\n",
    "    \n",
    "    print(\"Generating embeddings...\")\n",
    "    # mBERT models are larger, so using smaller batch size\n",
    "    embeddings = model.encode(texts, \n",
    "                            show_progress_bar=True, \n",
    "                            batch_size=batch_size)\n",
    "    return embeddings\n",
    "\n",
    "def create_faiss_index(embeddings, save_dir):\n",
    "    \"\"\"Create and save FAISS index using L2 distance.\"\"\"\n",
    "    os.makedirs(save_dir, exist_ok=True)\n",
    "    \n",
    "    dimension = embeddings.shape[1]\n",
    "    print(f\"Creating FAISS index with dimension {dimension}\")\n",
    "    \n",
    "    # Convert to float32 for FAISS compatibility\n",
    "    embeddings = embeddings.astype('float32')\n",
    "    \n",
    "    # Create FlatL2 index\n",
    "    print(\"Creating FlatL2 index...\")\n",
    "    index = faiss.IndexFlatL2(dimension)\n",
    "    \n",
    "    # Add vectors to the index with progress bar\n",
    "    print(\"Adding vectors to index...\")\n",
    "    batch_size = 1000\n",
    "    for i in tqdm(range(0, len(embeddings), batch_size), desc=\"Adding to FAISS\"):\n",
    "        batch = embeddings[i:i + batch_size]\n",
    "        index.add(batch)\n",
    "    \n",
    "    # Save the index\n",
    "    index_path = os.path.join(save_dir, 'embeddings.faiss')\n",
    "    faiss.write_index(index, index_path)\n",
    "    print(f\"Index saved to {index_path}\")\n",
    "    return index\n",
    "\n",
    "def save_metadata(metadata, save_dir):\n",
    "    \"\"\"Save processed metadata.\"\"\"\n",
    "    metadata_path = os.path.join(save_dir, 'metadata.json')\n",
    "    with tqdm(total=1, desc=\"Saving metadata\") as pbar:\n",
    "        with open(metadata_path, 'w') as f:\n",
    "            json.dump(metadata, f, indent=2)\n",
    "        pbar.update(1)\n",
    "    print(f\"Metadata saved to {metadata_path}\")\n",
    "\n",
    "def main():\n",
    "    # Setup paths\n",
    "    base_path = Path('/workspace/Extracted/Structured/Summary')\n",
    "    summaries_path = base_path / 'Combined_Summaries.json' \n",
    "    metadata_path = base_path / 'Combined_Metadata.json'\n",
    "    save_dir = '/workspace/Malayalam/vector_db'\n",
    "    \n",
    "    print(\"Loading files...\")\n",
    "    with tqdm(total=2, desc=\"Loading files\") as pbar:\n",
    "        summaries, metadata = load_files(summaries_path, metadata_path)\n",
    "        pbar.update(2)\n",
    "    \n",
    "    texts, processed_metadata = prepare_texts(summaries, metadata)\n",
    "    \n",
    "    print(f\"Creating embeddings for {len(texts)} documents...\")\n",
    "    # Using mBERT model instead of all-MiniLM-L6-v2\n",
    "    embeddings = create_embeddings(texts, model_name='bert-base-multilingual-cased')\n",
    "    \n",
    "    print(\"Creating and saving FAISS index...\")\n",
    "    index = create_faiss_index(embeddings, save_dir)\n",
    "    \n",
    "    print(\"Saving metadata...\")\n",
    "    save_metadata(processed_metadata, save_dir)\n",
    "    \n",
    "    print(\"\\nSummary:\")\n",
    "    print(f\"- Processed {len(texts)} documents\")\n",
    "    print(f\"- Created {embeddings.shape[1]}-dimensional embeddings\")\n",
    "    print(f\"- Index and metadata saved in {save_dir}\")\n",
    "\n",
    "if __name__ == \"__main__\":\n",
    "    main()"
   ]
  },
  {
   "cell_type": "code",
   "execution_count": null,
   "id": "bb381d9d",
   "metadata": {},
   "outputs": [],
   "source": []
  }
 ],
 "metadata": {
  "kernelspec": {
   "display_name": "Python 3 (ipykernel)",
   "language": "python",
   "name": "python3"
  },
  "language_info": {
   "codemirror_mode": {
    "name": "ipython",
    "version": 3
   },
   "file_extension": ".py",
   "mimetype": "text/x-python",
   "name": "python",
   "nbconvert_exporter": "python",
   "pygments_lexer": "ipython3",
   "version": "3.8.10"
  }
 },
 "nbformat": 4,
 "nbformat_minor": 5
}
