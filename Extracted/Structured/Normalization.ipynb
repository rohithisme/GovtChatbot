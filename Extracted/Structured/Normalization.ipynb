{
 "cells": [
  {
   "cell_type": "code",
   "execution_count": null,
   "id": "b28c8289",
   "metadata": {},
   "outputs": [],
   "source": [
    "KSR"
   ]
  },
  {
   "cell_type": "code",
   "execution_count": 1,
   "id": "bd7ddde1",
   "metadata": {},
   "outputs": [
    {
     "name": "stdout",
     "output_type": "stream",
     "text": [
      "Structured JSON has been saved to: /workspace/rohith_llm/Extracted/Structured/KSR.json\n",
      "Total records processed: 2453\n"
     ]
    }
   ],
   "source": [
    "import json\n",
    "import os\n",
    "\n",
    "def restructure_json():\n",
    "    # Create the output directory if it doesn't exist\n",
    "    os.makedirs('/workspace/rohith_llm/Extracted/Structured', exist_ok=True)\n",
    "    \n",
    "    # Read the input JSON file\n",
    "    with open('/workspace/rohith_llm/Full_KSR_extracted_rules2.json', 'r', encoding='utf-8') as file:\n",
    "        data = json.load(file)\n",
    "    \n",
    "    # Define the template structure with all fields\n",
    "    template = {\n",
    "        \"Document\": \"\",\n",
    "        \"Part\": \"\",\n",
    "        \"Chapter\": \"\",\n",
    "        \"Appendix\": \"\",\n",
    "        \"Annexure\": \"\",\n",
    "        \"Section\": \"\",\n",
    "        \"Sub Section\": \"\",\n",
    "        \"Sub division\": \"\",\n",
    "        \"Rule no.\": \"\",\n",
    "        \"Amendment order no.\": \"\",\n",
    "        \"Order date\": \"\",\n",
    "        \"Effective date\": \"\",\n",
    "        \"Description\": \"\"\n",
    "    }\n",
    "    \n",
    "    # Process each item in the input data\n",
    "    structured_data = []\n",
    "    for item in data:\n",
    "        # Create a new dictionary using the template\n",
    "        new_item = template.copy()\n",
    "        \n",
    "        # Update the new dictionary with existing values from the input\n",
    "        for key in item:\n",
    "            if key in new_item:\n",
    "                new_item[key] = item[key]\n",
    "        \n",
    "        structured_data.append(new_item)\n",
    "    \n",
    "    # Write the structured data to the output file\n",
    "    output_path = '/workspace/rohith_llm/Extracted/Structured/KSR.json'\n",
    "    with open(output_path, 'w', encoding='utf-8') as file:\n",
    "        json.dump(structured_data, file, indent=2, ensure_ascii=False)\n",
    "    \n",
    "    print(f\"Structured JSON has been saved to: {output_path}\")\n",
    "    print(f\"Total records processed: {len(structured_data)}\")\n",
    "\n",
    "if __name__ == \"__main__\":\n",
    "    restructure_json()"
   ]
  },
  {
   "cell_type": "markdown",
   "id": "cc1d2670",
   "metadata": {},
   "source": [
    "KFC"
   ]
  },
  {
   "cell_type": "code",
   "execution_count": 2,
   "id": "7058b280",
   "metadata": {},
   "outputs": [
    {
     "name": "stdout",
     "output_type": "stream",
     "text": [
      "Structured JSON has been saved to: /workspace/rohith_llm/Extracted/Structured/KFC.json\n",
      "Total records processed: 2304\n"
     ]
    }
   ],
   "source": [
    "import json\n",
    "import os\n",
    "\n",
    "def restructure_json():\n",
    "    # Create the output directory if it doesn't exist\n",
    "    os.makedirs('/workspace/rohith_llm/Extracted/Structured', exist_ok=True)\n",
    "    \n",
    "    # Read the input JSON file\n",
    "    with open('/workspace/rohith_llm/Full_KFC_extracted_rules.json', 'r', encoding='utf-8') as file:\n",
    "        data = json.load(file)\n",
    "    \n",
    "    # Define the template structure with all fields\n",
    "    template = {\n",
    "        \"Document\": \"\",\n",
    "        \"Part\": \"\",\n",
    "        \"Chapter\": \"\",\n",
    "        \"Appendix\": \"\",\n",
    "        \"Annexure\": \"\",\n",
    "        \"Section\": \"\",\n",
    "        \"Sub Section\": \"\",\n",
    "        \"Sub division\": \"\",\n",
    "        \"Rule no.\": \"\",\n",
    "        \"Amendment order no.\": \"\",\n",
    "        \"Order date\": \"\",\n",
    "        \"Effective date\": \"\",\n",
    "        \"Description\": \"\"\n",
    "    }\n",
    "    \n",
    "    # Process each item in the input data\n",
    "    structured_data = []\n",
    "    for item in data:\n",
    "        # Create a new dictionary using the template\n",
    "        new_item = template.copy()\n",
    "        \n",
    "        # Update the new dictionary with existing values from the input\n",
    "        for key in item:\n",
    "            if key in new_item:\n",
    "                new_item[key] = item[key]\n",
    "        \n",
    "        structured_data.append(new_item)\n",
    "    \n",
    "    # Write the structured data to the output file\n",
    "    output_path = '/workspace/rohith_llm/Extracted/Structured/KFC.json'\n",
    "    with open(output_path, 'w', encoding='utf-8') as file:\n",
    "        json.dump(structured_data, file, indent=2, ensure_ascii=False)\n",
    "    \n",
    "    print(f\"Structured JSON has been saved to: {output_path}\")\n",
    "    print(f\"Total records processed: {len(structured_data)}\")\n",
    "\n",
    "if __name__ == \"__main__\":\n",
    "    restructure_json()"
   ]
  },
  {
   "cell_type": "markdown",
   "id": "4e916b32",
   "metadata": {},
   "source": [
    "KTC"
   ]
  },
  {
   "cell_type": "code",
   "execution_count": 2,
   "id": "c7a3fb33",
   "metadata": {},
   "outputs": [
    {
     "name": "stdout",
     "output_type": "stream",
     "text": [
      "Structured JSON has been saved to: /workspace/rohith_llm/Extracted/Structured/KTC.json\n",
      "Total records processed: 1047\n"
     ]
    }
   ],
   "source": [
    "import json\n",
    "import os\n",
    "\n",
    "def restructure_json():\n",
    "    # Create the output directory if it doesn't exist\n",
    "    os.makedirs('/workspace/rohith_llm/Extracted/Structured', exist_ok=True)\n",
    "    \n",
    "    # Read the input JSON file\n",
    "    with open('/workspace/rohith_llm/FP_Full_KTC_extracted_rules.json', 'r', encoding='utf-8') as file:\n",
    "        data = json.load(file)\n",
    "    \n",
    "    # Define the template structure with all fields\n",
    "    template = {\n",
    "        \"Document\": \"\",\n",
    "        \"Part\": \"\",\n",
    "        \"Chapter\": \"\",\n",
    "        \"Appendix\": \"\",\n",
    "        \"Annexure\": \"\",\n",
    "        \"Section\": \"\",\n",
    "        \"Sub Section\": \"\",\n",
    "        \"Sub division\": \"\",\n",
    "        \"Rule no.\": \"\",\n",
    "        \"Amendment order no.\": \"\",\n",
    "        \"Order date\": \"\",\n",
    "        \"Effective date\": \"\",\n",
    "        \"Description\": \"\"\n",
    "    }\n",
    "    \n",
    "    # Process each item in the input data\n",
    "    structured_data = []\n",
    "    for item in data:\n",
    "        # Create a new dictionary using the template\n",
    "        new_item = template.copy()\n",
    "        \n",
    "        # Update the new dictionary with existing values from the input\n",
    "        for key in item:\n",
    "            if key in new_item:\n",
    "                new_item[key] = item[key]\n",
    "        \n",
    "        structured_data.append(new_item)\n",
    "    \n",
    "    # Write the structured data to the output file\n",
    "    output_path = '/workspace/rohith_llm/Extracted/Structured/KTC.json'\n",
    "    with open(output_path, 'w', encoding='utf-8') as file:\n",
    "        json.dump(structured_data, file, indent=2, ensure_ascii=False)\n",
    "    \n",
    "    print(f\"Structured JSON has been saved to: {output_path}\")\n",
    "    print(f\"Total records processed: {len(structured_data)}\")\n",
    "\n",
    "if __name__ == \"__main__\":\n",
    "    restructure_json()"
   ]
  },
  {
   "cell_type": "markdown",
   "id": "232b07b5",
   "metadata": {},
   "source": [
    "KSSR"
   ]
  },
  {
   "cell_type": "code",
   "execution_count": 1,
   "id": "599eb7e6",
   "metadata": {},
   "outputs": [
    {
     "name": "stdout",
     "output_type": "stream",
     "text": [
      "Structured JSON has been saved to: /workspace/rohith_llm/Extracted/Structured/KSSR.json\n",
      "Total records processed: 489\n"
     ]
    }
   ],
   "source": [
    "import json\n",
    "import os\n",
    "\n",
    "def restructure_json():\n",
    "    # Create the output directory if it doesn't exist\n",
    "    os.makedirs('/workspace/rohith_llm/Extracted/Structured', exist_ok=True)\n",
    "    \n",
    "    # Read the input JSON file\n",
    "    with open('/workspace/rohith_llm/Full_KSSR_extracted_rules.json', 'r', encoding='utf-8') as file:\n",
    "        data = json.load(file)\n",
    "    \n",
    "    # Define the template structure with all fields\n",
    "    template = {\n",
    "        \"Document\": \"\",\n",
    "        \"Part\": \"\",\n",
    "        \"Chapter\": \"\",\n",
    "        \"Appendix\": \"\",\n",
    "        \"Annexure\": \"\",\n",
    "        \"Section\": \"\",\n",
    "        \"Sub Section\": \"\",\n",
    "        \"Sub division\": \"\",\n",
    "        \"Rule no.\": \"\",\n",
    "        \"Amendment order no.\": \"\",\n",
    "        \"Order date\": \"\",\n",
    "        \"Effective date\": \"\",\n",
    "        \"Description\": \"\"\n",
    "    }\n",
    "    \n",
    "    # Process each item in the input data\n",
    "    structured_data = []\n",
    "    for item in data:\n",
    "        # Create a new dictionary using the template\n",
    "        new_item = template.copy()\n",
    "        \n",
    "        # Update the new dictionary with existing values from the input\n",
    "        for key in item:\n",
    "            if key in new_item:\n",
    "                new_item[key] = item[key]\n",
    "        \n",
    "        structured_data.append(new_item)\n",
    "    \n",
    "    # Write the structured data to the output file\n",
    "    output_path = '/workspace/rohith_llm/Extracted/Structured/KSSR.json'\n",
    "    with open(output_path, 'w', encoding='utf-8') as file:\n",
    "        json.dump(structured_data, file, indent=2, ensure_ascii=False)\n",
    "    \n",
    "    print(f\"Structured JSON has been saved to: {output_path}\")\n",
    "    print(f\"Total records processed: {len(structured_data)}\")\n",
    "\n",
    "if __name__ == \"__main__\":\n",
    "    restructure_json()"
   ]
  },
  {
   "cell_type": "code",
   "execution_count": null,
   "id": "0da1bf37",
   "metadata": {},
   "outputs": [],
   "source": []
  }
 ],
 "metadata": {
  "kernelspec": {
   "display_name": "Python 3 (ipykernel)",
   "language": "python",
   "name": "python3"
  },
  "language_info": {
   "codemirror_mode": {
    "name": "ipython",
    "version": 3
   },
   "file_extension": ".py",
   "mimetype": "text/x-python",
   "name": "python",
   "nbconvert_exporter": "python",
   "pygments_lexer": "ipython3",
   "version": "3.8.10"
  }
 },
 "nbformat": 4,
 "nbformat_minor": 5
}
