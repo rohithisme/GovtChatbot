{
 "cells": [
  {
   "cell_type": "code",
   "execution_count": 2,
   "id": "549e7aaa",
   "metadata": {},
   "outputs": [
    {
     "name": "stdout",
     "output_type": "stream",
     "text": [
      "Successfully created new JSON file with updated indices at: /workspace/rohith_llm/Extracted/Structured/Summary/Combined_Metadata_Reindexed.json\n"
     ]
    }
   ],
   "source": [
    "import json\n",
    "import os\n",
    "\n",
    "def reindex_json_file(input_path, output_path, start_index):\n",
    "    try:\n",
    "        # Read the JSON file\n",
    "        with open(input_path, 'r', encoding='utf-8') as file:\n",
    "            data = json.load(file)\n",
    "        \n",
    "        # Check if data is a list\n",
    "        if not isinstance(data, list):\n",
    "            raise ValueError(\"Input JSON must be a list of dictionaries\")\n",
    "            \n",
    "        # Update the index values\n",
    "        for i, item in enumerate(data):\n",
    "            if 'index' in item:\n",
    "                item['index'] = i + start_index\n",
    "        \n",
    "        # Create directory if it doesn't exist\n",
    "        os.makedirs(os.path.dirname(output_path), exist_ok=True)\n",
    "        \n",
    "        # Write the modified data to a new JSON file\n",
    "        with open(output_path, 'w', encoding='utf-8') as file:\n",
    "            json.dump(data, file, indent=2, ensure_ascii=False)\n",
    "            \n",
    "        print(f\"Successfully created new JSON file with updated indices at: {output_path}\")\n",
    "        \n",
    "    except FileNotFoundError:\n",
    "        print(f\"Error: Input file not found at {input_path}\")\n",
    "    except json.JSONDecodeError:\n",
    "        print(\"Error: Invalid JSON format in input file\")\n",
    "    except Exception as e:\n",
    "        print(f\"An error occurred: {str(e)}\")\n",
    "\n",
    "if __name__ == \"__main__\":\n",
    "    # Define input and output paths\n",
    "    input_file = \"/workspace/rohith_llm/Extracted/Structured/Summary/Combined_Metadata.json\"\n",
    "    output_file = \"/workspace/rohith_llm/Extracted/Structured/Summary/Combined_Metadata_Reindexed.json\"\n",
    "    start_index = 5858\n",
    "    \n",
    "    # Run the reindexing\n",
    "    reindex_json_file(input_file, output_file, start_index)"
   ]
  },
  {
   "cell_type": "code",
   "execution_count": null,
   "id": "b62e758e",
   "metadata": {},
   "outputs": [],
   "source": []
  }
 ],
 "metadata": {
  "kernelspec": {
   "display_name": "Python 3 (ipykernel)",
   "language": "python",
   "name": "python3"
  },
  "language_info": {
   "codemirror_mode": {
    "name": "ipython",
    "version": 3
   },
   "file_extension": ".py",
   "mimetype": "text/x-python",
   "name": "python",
   "nbconvert_exporter": "python",
   "pygments_lexer": "ipython3",
   "version": "3.8.10"
  }
 },
 "nbformat": 4,
 "nbformat_minor": 5
}
