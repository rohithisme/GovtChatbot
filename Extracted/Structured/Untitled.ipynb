{
 "cells": [
  {
   "cell_type": "code",
   "execution_count": 2,
   "id": "f4ba5be0",
   "metadata": {},
   "outputs": [
    {
     "name": "stdout",
     "output_type": "stream",
     "text": [
      "Part, Section, and Rule no. updated successfully! File saved as /workspace/rohith_llm/Extracted/Structured/KTC_corrected.json\n"
     ]
    }
   ],
   "source": [
    "import json\n",
    "\n",
    "# File paths\n",
    "input_file = \"/workspace/rohith_llm/Extracted/Structured/KTC.json\"\n",
    "output_file = \"/workspace/rohith_llm/Extracted/Structured/KTC_corrected.json\"\n",
    "\n",
    "# Load the JSON data\n",
    "with open(input_file, \"r\", encoding=\"utf-8\") as file:\n",
    "    data = json.load(file)\n",
    "\n",
    "# Initialize previous values for Part, Section, and Rule no.\n",
    "prev_part = None\n",
    "prev_section = None\n",
    "prev_rule_no = None\n",
    "\n",
    "# Iterate through the data\n",
    "for obj in data:\n",
    "    # Update Part if empty\n",
    "    if obj[\"Part\"]:\n",
    "        prev_part = obj[\"Part\"]\n",
    "    elif prev_part:\n",
    "        obj[\"Part\"] = prev_part\n",
    "\n",
    "    # Update Section if empty\n",
    "    if obj[\"Section\"]:\n",
    "        prev_section = obj[\"Section\"]\n",
    "    elif prev_section:\n",
    "        obj[\"Section\"] = prev_section\n",
    "\n",
    "    # Update Rule no. if empty\n",
    "    if obj[\"Rule no.\"]:\n",
    "        prev_rule_no = obj[\"Rule no.\"]\n",
    "    elif prev_rule_no:\n",
    "        obj[\"Rule no.\"] = prev_rule_no\n",
    "\n",
    "# Save the updated JSON file\n",
    "with open(output_file, \"w\", encoding=\"utf-8\") as file:\n",
    "    json.dump(data, file, indent=4, ensure_ascii=False)\n",
    "\n",
    "print(f\"Part, Section, and Rule no. updated successfully! File saved as {output_file}\")\n"
   ]
  }
 ],
 "metadata": {
  "kernelspec": {
   "display_name": "Python 3 (ipykernel)",
   "language": "python",
   "name": "python3"
  },
  "language_info": {
   "codemirror_mode": {
    "name": "ipython",
    "version": 3
   },
   "file_extension": ".py",
   "mimetype": "text/x-python",
   "name": "python",
   "nbconvert_exporter": "python",
   "pygments_lexer": "ipython3",
   "version": "3.8.10"
  }
 },
 "nbformat": 4,
 "nbformat_minor": 5
}
