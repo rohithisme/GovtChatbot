{
 "cells": [
  {
   "cell_type": "code",
   "execution_count": 7,
   "id": "1ae327c2",
   "metadata": {},
   "outputs": [
    {
     "ename": "SyntaxError",
     "evalue": "invalid syntax (3518583322.py, line 1)",
     "output_type": "error",
     "traceback": [
      "\u001b[0;36m  Cell \u001b[0;32mIn [7], line 1\u001b[0;36m\u001b[0m\n\u001b[0;31m    pip install pdfminer\u001b[0m\n\u001b[0m        ^\u001b[0m\n\u001b[0;31mSyntaxError\u001b[0m\u001b[0;31m:\u001b[0m invalid syntax\n"
     ]
    }
   ],
   "source": [
    "pip install pdfminer"
   ]
  },
  {
   "cell_type": "code",
   "execution_count": 8,
   "id": "9f4bfbef",
   "metadata": {},
   "outputs": [
    {
     "name": "stdout",
     "output_type": "stream",
     "text": [
      "Looking in indexes: https://pypi.org/simple, https://pypi.ngc.nvidia.com\n",
      "Collecting pdfminer.six\n",
      "  Downloading pdfminer.six-20240706-py3-none-any.whl.metadata (4.1 kB)\n",
      "Requirement already satisfied: charset-normalizer>=2.0.0 in /usr/local/lib/python3.8/dist-packages (from pdfminer.six) (2.1.1)\n",
      "Collecting cryptography>=36.0.0 (from pdfminer.six)\n",
      "  Downloading cryptography-44.0.0-cp37-abi3-manylinux_2_28_x86_64.whl.metadata (5.7 kB)\n",
      "Requirement already satisfied: cffi>=1.12 in /usr/local/lib/python3.8/dist-packages (from cryptography>=36.0.0->pdfminer.six) (1.15.1)\n",
      "Requirement already satisfied: pycparser in /usr/local/lib/python3.8/dist-packages (from cffi>=1.12->cryptography>=36.0.0->pdfminer.six) (2.21)\n",
      "Downloading pdfminer.six-20240706-py3-none-any.whl (5.6 MB)\n",
      "\u001b[2K   \u001b[90m━━━━━━━━━━━━━━━━━━━━━━━━━━━━━━━━━━━━━━━━\u001b[0m \u001b[32m5.6/5.6 MB\u001b[0m \u001b[31m54.4 MB/s\u001b[0m eta \u001b[36m0:00:00\u001b[0m\n",
      "\u001b[?25hDownloading cryptography-44.0.0-cp37-abi3-manylinux_2_28_x86_64.whl (4.2 MB)\n",
      "\u001b[2K   \u001b[90m━━━━━━━━━━━━━━━━━━━━━━━━━━━━━━━━━━━━━━━━\u001b[0m \u001b[32m4.2/4.2 MB\u001b[0m \u001b[31m20.3 MB/s\u001b[0m eta \u001b[36m0:00:00\u001b[0m\n",
      "\u001b[?25hInstalling collected packages: cryptography, pdfminer.six\n",
      "Successfully installed cryptography-44.0.0 pdfminer.six-20240706\n",
      "\u001b[33mWARNING: Running pip as the 'root' user can result in broken permissions and conflicting behaviour with the system package manager, possibly rendering your system unusable. It is recommended to use a virtual environment instead: https://pip.pypa.io/warnings/venv. Use the --root-user-action option if you know what you are doing and want to suppress this warning.\u001b[0m\u001b[33m\n",
      "\u001b[0mNote: you may need to restart the kernel to use updated packages.\n"
     ]
    }
   ],
   "source": [
    "pip install pdfminer.six\n"
   ]
  },
  {
   "cell_type": "code",
   "execution_count": 1,
   "id": "ecb3c811",
   "metadata": {},
   "outputs": [
    {
     "name": "stdout",
     "output_type": "stream",
     "text": [
      "Extracting text with pdfminer...\n",
      "Data extracted and saved to Extracted/KSR_Vol_1_pdfminer_extracted.txt\n"
     ]
    }
   ],
   "source": [
    "import os\n",
    "from pdfminer.high_level import extract_text\n",
    "from tqdm import tqdm\n",
    "\n",
    "# Path to the input and output files\n",
    "input_pdf_path = 'Documents/KSR Vol 1 trimmed.pdf'\n",
    "output_txt_path = 'Extracted/KSR_Vol_1_pdfminer_extracted.txt'\n",
    "\n",
    "# Extract text from the PDF\n",
    "print(\"Extracting text with pdfminer...\")\n",
    "extracted_text = extract_text(input_pdf_path)\n",
    "\n",
    "# Save the extracted text to a file\n",
    "with open(output_txt_path, 'w', encoding='utf-8') as text_file:\n",
    "    text_file.write(extracted_text)\n",
    "\n",
    "print(f\"Data extracted and saved to {output_txt_path}\")\n"
   ]
  },
  {
   "cell_type": "code",
   "execution_count": 2,
   "id": "297b91c0",
   "metadata": {},
   "outputs": [
    {
     "name": "stdout",
     "output_type": "stream",
     "text": [
      "Extracting text with pdfminer...\n",
      "Data extracted and saved to Extracted/KSR_Vol_2_pdfminer_extracted.txt\n"
     ]
    }
   ],
   "source": [
    "import os\n",
    "from pdfminer.high_level import extract_text\n",
    "from tqdm import tqdm\n",
    "\n",
    "# Path to the input and output files\n",
    "input_pdf_path = 'Documents/KSR Vol 2 trimmed.pdf'\n",
    "output_txt_path = 'Extracted/KSR_Vol_2_pdfminer_extracted.txt'\n",
    "\n",
    "# Extract text from the PDF\n",
    "print(\"Extracting text with pdfminer...\")\n",
    "extracted_text = extract_text(input_pdf_path)\n",
    "\n",
    "# Save the extracted text to a file\n",
    "with open(output_txt_path, 'w', encoding='utf-8') as text_file:\n",
    "    text_file.write(extracted_text)\n",
    "\n",
    "print(f\"Data extracted and saved to {output_txt_path}\")\n"
   ]
  },
  {
   "cell_type": "code",
   "execution_count": 10,
   "id": "f7844fe6",
   "metadata": {},
   "outputs": [
    {
     "name": "stdout",
     "output_type": "stream",
     "text": [
      "Extracting text with pdfminer...\n",
      "Data extracted and saved to /workspace/rohith_llm/Extracted/KFC1_pdfminer_extracted.txt\n"
     ]
    }
   ],
   "source": [
    "import os\n",
    "from pdfminer.high_level import extract_text\n",
    "from tqdm import tqdm\n",
    "\n",
    "# Path to the input and output files\n",
    "input_pdf_path = '/workspace/rohith_llm/Documents/KFC I Trimmed.pdf'\n",
    "output_txt_path = '/workspace/rohith_llm/Extracted/KFC1_pdfminer_extracted.txt'\n",
    "\n",
    "# Extract text from the PDF\n",
    "print(\"Extracting text with pdfminer...\")\n",
    "extracted_text = extract_text(input_pdf_path)\n",
    "\n",
    "# Save the extracted text to a file\n",
    "with open(output_txt_path, 'w', encoding='utf-8') as text_file:\n",
    "    text_file.write(extracted_text)\n",
    "\n",
    "print(f\"Data extracted and saved to {output_txt_path}\")\n"
   ]
  },
  {
   "cell_type": "code",
   "execution_count": 11,
   "id": "2553b3e0",
   "metadata": {},
   "outputs": [
    {
     "name": "stdout",
     "output_type": "stream",
     "text": [
      "Extracting text with pdfminer...\n",
      "Data extracted and saved to /workspace/rohith_llm/Extracted/KTC_pdfminer_extracted.txt\n"
     ]
    }
   ],
   "source": [
    "import os\n",
    "from pdfminer.high_level import extract_text\n",
    "from tqdm import tqdm\n",
    "\n",
    "# Path to the input and output files\n",
    "input_pdf_path = '/workspace/rohith_llm/Documents/KTC Trimmed.pdf'\n",
    "output_txt_path = '/workspace/rohith_llm/Extracted/KTC_pdfminer_extracted.txt'\n",
    "\n",
    "# Extract text from the PDF\n",
    "print(\"Extracting text with pdfminer...\")\n",
    "extracted_text = extract_text(input_pdf_path)\n",
    "\n",
    "# Save the extracted text to a file\n",
    "with open(output_txt_path, 'w', encoding='utf-8') as text_file:\n",
    "    text_file.write(extracted_text)\n",
    "\n",
    "print(f\"Data extracted and saved to {output_txt_path}\")\n"
   ]
  },
  {
   "cell_type": "code",
   "execution_count": 1,
   "id": "e175635e",
   "metadata": {},
   "outputs": [
    {
     "name": "stdout",
     "output_type": "stream",
     "text": [
      "Extracting text with pdfminer...\n",
      "Data extracted and saved to /workspace/rohith_llm/Extracted/KSSR_pdfminer_extracted.txt\n"
     ]
    }
   ],
   "source": [
    "import os\n",
    "from pdfminer.high_level import extract_text\n",
    "from tqdm import tqdm\n",
    "\n",
    "# Path to the input and output files\n",
    "input_pdf_path = '/workspace/rohith_llm/Documents/KSSR Trimmed.pdf'\n",
    "output_txt_path = '/workspace/rohith_llm/Extracted/KSSR_pdfminer_extracted.txt'\n",
    "\n",
    "# Extract text from the PDF\n",
    "print(\"Extracting text with pdfminer...\")\n",
    "extracted_text = extract_text(input_pdf_path)\n",
    "\n",
    "# Save the extracted text to a file\n",
    "with open(output_txt_path, 'w', encoding='utf-8') as text_file:\n",
    "    text_file.write(extracted_text)\n",
    "\n",
    "print(f\"Data extracted and saved to {output_txt_path}\")\n"
   ]
  }
 ],
 "metadata": {
  "kernelspec": {
   "display_name": "Python 3 (ipykernel)",
   "language": "python",
   "name": "python3"
  },
  "language_info": {
   "codemirror_mode": {
    "name": "ipython",
    "version": 3
   },
   "file_extension": ".py",
   "mimetype": "text/x-python",
   "name": "python",
   "nbconvert_exporter": "python",
   "pygments_lexer": "ipython3",
   "version": "3.8.10"
  }
 },
 "nbformat": 4,
 "nbformat_minor": 5
}
