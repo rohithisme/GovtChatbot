{
 "cells": [
  {
   "cell_type": "code",
   "execution_count": 3,
   "id": "3c941c7c",
   "metadata": {},
   "outputs": [
    {
     "name": "stderr",
     "output_type": "stream",
     "text": [
      "Extracting with PDFPlumber: 100%|██████████████████████████████████████████████████████████████████████████████████████████████████████████████| 379/379 [00:27<00:00, 13.55it/s]\n"
     ]
    },
    {
     "name": "stdout",
     "output_type": "stream",
     "text": [
      "Data extracted and saved to Extracted/pdfplumber_extracted.txt\n"
     ]
    }
   ],
   "source": [
    "import pdfplumber\n",
    "from tqdm import tqdm\n",
    "\n",
    "# Path to the input and output files\n",
    "input_pdf_path = 'Documents/KSR Vol 1 trimmed.pdf'\n",
    "output_txt_path = 'Extracted/pdfplumber_extracted.txt'\n",
    "\n",
    "# Open the PDF file using pdfplumber\n",
    "with pdfplumber.open(input_pdf_path) as pdf:\n",
    "    extracted_data = \"\"\n",
    "    \n",
    "    # Use tqdm to show progress through pages\n",
    "    for page in tqdm(pdf.pages, desc=\"Extracting with PDFPlumber\"):\n",
    "        extracted_data += page.extract_text()\n",
    "\n",
    "# Save the extracted text to a file\n",
    "with open(output_txt_path, 'w', encoding='utf-8') as f:\n",
    "    f.write(extracted_data)\n",
    "\n",
    "print(f\"Data extracted and saved to {output_txt_path}\")\n"
   ]
  },
  {
   "cell_type": "code",
   "execution_count": 2,
   "id": "7e7b4c08",
   "metadata": {},
   "outputs": [
    {
     "name": "stdout",
     "output_type": "stream",
     "text": [
      "Looking in indexes: https://pypi.org/simple, https://pypi.ngc.nvidia.com\n",
      "Collecting pdfplumber\n",
      "  Downloading pdfplumber-0.11.5-py3-none-any.whl (59 kB)\n",
      "\u001b[K     |████████████████████████████████| 59 kB 3.8 MB/s eta 0:00:01\n",
      "\u001b[?25hCollecting pdfminer.six==20231228\n",
      "  Downloading pdfminer.six-20231228-py3-none-any.whl (5.6 MB)\n",
      "\u001b[K     |████████████████████████████████| 5.6 MB 6.6 MB/s eta 0:00:01\n",
      "\u001b[?25hCollecting Pillow>=9.1\n",
      "  Downloading pillow-10.4.0-cp38-cp38-manylinux_2_28_x86_64.whl (4.5 MB)\n",
      "\u001b[K     |████████████████████████████████| 4.5 MB 43.7 MB/s eta 0:00:01\n",
      "\u001b[?25hCollecting pypdfium2>=4.18.0\n",
      "  Downloading pypdfium2-4.30.1-py3-none-manylinux_2_17_x86_64.manylinux2014_x86_64.whl (2.9 MB)\n",
      "\u001b[K     |████████████████████████████████| 2.9 MB 40.8 MB/s eta 0:00:01\n",
      "\u001b[?25hRequirement already satisfied: charset-normalizer>=2.0.0 in /usr/local/lib/python3.8/dist-packages (from pdfminer.six==20231228->pdfplumber) (2.1.1)\n",
      "Collecting cryptography>=36.0.0\n",
      "  Downloading cryptography-44.0.0-cp37-abi3-manylinux_2_28_x86_64.whl (4.2 MB)\n",
      "\u001b[K     |████████████████████████████████| 4.2 MB 47.4 MB/s eta 0:00:01\n",
      "\u001b[?25hRequirement already satisfied: cffi>=1.12 in /usr/local/lib/python3.8/dist-packages (from cryptography>=36.0.0->pdfminer.six==20231228->pdfplumber) (1.15.1)\n",
      "Requirement already satisfied: pycparser in /usr/local/lib/python3.8/dist-packages (from cffi>=1.12->cryptography>=36.0.0->pdfminer.six==20231228->pdfplumber) (2.21)\n",
      "Installing collected packages: cryptography, pypdfium2, Pillow, pdfminer.six, pdfplumber\n",
      "  Attempting uninstall: Pillow\n",
      "    Found existing installation: Pillow 9.0.1\n",
      "    Uninstalling Pillow-9.0.1:\n",
      "      Successfully uninstalled Pillow-9.0.1\n",
      "Successfully installed Pillow-10.4.0 cryptography-44.0.0 pdfminer.six-20231228 pdfplumber-0.11.5 pypdfium2-4.30.1\n",
      "\u001b[33mWARNING: Running pip as the 'root' user can result in broken permissions and conflicting behaviour with the system package manager. It is recommended to use a virtual environment instead: https://pip.pypa.io/warnings/venv\u001b[0m\n",
      "\u001b[33mWARNING: You are using pip version 21.2.4; however, version 24.3.1 is available.\n",
      "You should consider upgrading via the '/usr/bin/python -m pip install --upgrade pip' command.\u001b[0m\n",
      "Note: you may need to restart the kernel to use updated packages.\n"
     ]
    }
   ],
   "source": [
    "pip install pdfplumber\n"
   ]
  }
 ],
 "metadata": {
  "kernelspec": {
   "display_name": "Python 3 (ipykernel)",
   "language": "python",
   "name": "python3"
  },
  "language_info": {
   "codemirror_mode": {
    "name": "ipython",
    "version": 3
   },
   "file_extension": ".py",
   "mimetype": "text/x-python",
   "name": "python",
   "nbconvert_exporter": "python",
   "pygments_lexer": "ipython3",
   "version": "3.8.10"
  }
 },
 "nbformat": 4,
 "nbformat_minor": 5
}
