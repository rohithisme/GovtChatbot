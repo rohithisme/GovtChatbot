{
 "cells": [
  {
   "cell_type": "markdown",
   "id": "d9f33ed4",
   "metadata": {},
   "source": [
    "AMENDMENTS ONLY"
   ]
  },
  {
   "cell_type": "code",
   "execution_count": 19,
   "id": "b4f3f2f1",
   "metadata": {},
   "outputs": [
    {
     "name": "stderr",
     "output_type": "stream",
     "text": [
      "Processing amendments: 100%|█████████████████████████████████████████████████████████████████████████████████████████████████████████████████████| 30/30 [02:17<00:00,  4.59s/it]"
     ]
    },
    {
     "name": "stdout",
     "output_type": "stream",
     "text": [
      "\n",
      "Processed 30 amendments\n",
      "Summaries saved to: /workspace/rohith_llm/Extracted/Structured/Summary/KSR_Amendments_Summaries.json\n",
      "Metadata saved to: /workspace/rohith_llm/Extracted/Structured/Summary/KSR_Amendments_Metadata.json\n"
     ]
    },
    {
     "name": "stderr",
     "output_type": "stream",
     "text": [
      "\n"
     ]
    }
   ],
   "source": [
    "import json\n",
    "import requests\n",
    "import time\n",
    "from tqdm import tqdm\n",
    "from pathlib import Path\n",
    "\n",
    "def process_with_llama(json_obj):\n",
    "    \"\"\"Process a single JSON object with Llama model via Ollama.\"\"\"\n",
    "    prompt = f\"\"\"\n",
    "Given this JSON object from a Kerala Service Rules amendment:\n",
    "{json.dumps(json_obj, indent=2)}\n",
    "\n",
    "Create a one-sentence summary that captures all the important information from this document.\n",
    "Give only the summary text, no additional formatting or explanation.\n",
    "\"\"\"\n",
    "\n",
    "    response = requests.post('http://localhost:11434/api/generate',\n",
    "                           json={\n",
    "                               'model': 'llama3.3:70b-instruct-q8_0',\n",
    "                               'prompt': prompt,\n",
    "                               'stream': False\n",
    "                           })\n",
    "    \n",
    "    if response.status_code == 200:\n",
    "        return response.json()['response'].strip()\n",
    "    else:\n",
    "        return f\"Error processing amendment: {response.status_code}\"\n",
    "\n",
    "def main():\n",
    "    # Setup paths\n",
    "    base_path = Path('/workspace/rohith_llm/Extracted/Structured')\n",
    "    summary_dir = base_path / 'Summary'\n",
    "    input_path = base_path / 'KSR_Amendments.json'\n",
    "    summaries_path = summary_dir / 'KSR_Amendments_Summaries.json'\n",
    "    metadata_path = summary_dir / 'KSR_Amendments_Metadata.json'\n",
    "    \n",
    "    try:\n",
    "        with open(input_path, 'r') as file:\n",
    "            amendments = json.load(file)\n",
    "    except FileNotFoundError:\n",
    "        print(f\"Error: Could not find input file at {input_path}\")\n",
    "        return\n",
    "    except json.JSONDecodeError:\n",
    "        print(\"Error: Invalid JSON in input file\")\n",
    "        return\n",
    "\n",
    "    # Lists to store summaries and metadata\n",
    "    summaries = []\n",
    "    metadata = []\n",
    "    \n",
    "    # Process each amendment with tqdm progress bar\n",
    "    with tqdm(total=len(amendments), desc=\"Processing amendments\") as pbar:\n",
    "        for idx, amendment in enumerate(amendments):\n",
    "            # Generate summary\n",
    "            summary = process_with_llama(amendment)\n",
    "            \n",
    "            # Add to summaries list\n",
    "            summaries.append({\"summary\": summary})\n",
    "            \n",
    "            # Create metadata entry with original structure plus index\n",
    "            metadata_entry = amendment.copy()  # Preserve original structure\n",
    "            metadata_entry[\"index\"] = idx     # Add index field\n",
    "            metadata.append(metadata_entry)\n",
    "            \n",
    "            # Update progress bar\n",
    "            pbar.update(1)\n",
    "            \n",
    "\n",
    "    # Save summaries file\n",
    "    with open(summaries_path, 'w') as f:\n",
    "        json.dump(summaries, f, indent=2)\n",
    "    \n",
    "    # Save metadata file\n",
    "    with open(metadata_path, 'w') as f:\n",
    "        json.dump(metadata, f, indent=2)\n",
    "    \n",
    "    print(f\"\\nProcessed {len(amendments)} amendments\")\n",
    "    print(f\"Summaries saved to: {summaries_path}\")\n",
    "    print(f\"Metadata saved to: {metadata_path}\")\n",
    "\n",
    "if __name__ == \"__main__\":\n",
    "    main()"
   ]
  },
  {
   "cell_type": "code",
   "execution_count": null,
   "id": "aa27ed69",
   "metadata": {},
   "outputs": [],
   "source": [
    "ENTIRE DOCUMENTS"
   ]
  },
  {
   "cell_type": "code",
   "execution_count": null,
   "id": "e08eca4c",
   "metadata": {},
   "outputs": [
    {
     "name": "stdout",
     "output_type": "stream",
     "text": [
      "\n",
      "Processing file: KSR.json\n"
     ]
    },
    {
     "name": "stderr",
     "output_type": "stream",
     "text": [
      "Processing KSR.json: 100%|█████████████████████████████████████████████████████████████████████████████████████████████████████████████████| 2453/2453 [2:14:20<00:00,  3.29s/it]\n"
     ]
    },
    {
     "name": "stdout",
     "output_type": "stream",
     "text": [
      "\n",
      "Processing file: KSSR.json\n"
     ]
    },
    {
     "name": "stderr",
     "output_type": "stream",
     "text": [
      "Processing KSSR.json:  16%|██████████████████▍                                                                                                  | 77/489 [03:33<17:55,  2.61s/it]"
     ]
    }
   ],
   "source": [
    "import json\n",
    "import requests\n",
    "import time\n",
    "from tqdm import tqdm\n",
    "from pathlib import Path\n",
    "import glob\n",
    "\n",
    "def process_with_llama(json_obj):\n",
    "    \"\"\"Process a single JSON object with Llama model via Ollama.\"\"\"\n",
    "    prompt = f\"\"\"\n",
    "Given this JSON object from a Kerala Service Rules amendment:\n",
    "{json.dumps(json_obj, indent=2)}\n",
    "\n",
    "Create a one-sentence summary that captures all the information from this document.\n",
    "Give only the summary text, no additional formatting or explanation.\n",
    "\"\"\"\n",
    "\n",
    "    response = requests.post('http://localhost:11434/api/generate',\n",
    "                           json={\n",
    "                               'model': 'llama3.3:70b-instruct-q8_0',\n",
    "                               'prompt': prompt,\n",
    "                               'stream': False\n",
    "                           })\n",
    "    \n",
    "    if response.status_code == 200:\n",
    "        return response.json()['response'].strip()\n",
    "    else:\n",
    "        return f\"Error processing amendment: {response.status_code}\"\n",
    "\n",
    "def main():\n",
    "    # Setup paths\n",
    "    base_path = Path('/workspace/rohith_llm/Extracted/Structured')\n",
    "    documents_path = base_path / 'Documents'\n",
    "    summary_dir = base_path / 'Summary'\n",
    "    summary_dir.mkdir(exist_ok=True)\n",
    "    \n",
    "    # Combined output files\n",
    "    combined_summaries_path = summary_dir / 'Combined_Summaries.json'\n",
    "    combined_metadata_path = summary_dir / 'Combined_Metadata.json'\n",
    "    \n",
    "    # Lists to store all summaries and metadata\n",
    "    all_summaries = []\n",
    "    all_metadata = []\n",
    "    \n",
    "    # Get all JSON files in the Documents directory\n",
    "    json_files = list(documents_path.glob('*.json'))\n",
    "    \n",
    "    if not json_files:\n",
    "        print(f\"Error: No JSON files found in {documents_path}\")\n",
    "        return\n",
    "    \n",
    "    # Process each JSON file\n",
    "    for json_file in json_files:\n",
    "        print(f\"\\nProcessing file: {json_file.name}\")\n",
    "        \n",
    "        try:\n",
    "            with open(json_file, 'r') as file:\n",
    "                amendments = json.load(file)\n",
    "        except FileNotFoundError:\n",
    "            print(f\"Error: Could not find file {json_file}\")\n",
    "            continue\n",
    "        except json.JSONDecodeError:\n",
    "            print(f\"Error: Invalid JSON in file {json_file}\")\n",
    "            continue\n",
    "        \n",
    "        # Process each amendment in the current file with tqdm progress bar\n",
    "        with tqdm(total=len(amendments), desc=f\"Processing {json_file.name}\") as pbar:\n",
    "            for amendment in amendments:\n",
    "                # Generate summary\n",
    "                summary = process_with_llama(amendment)\n",
    "                \n",
    "                # Add to summaries list with source file information\n",
    "                all_summaries.append({\n",
    "                    \"source_file\": json_file.name,\n",
    "                    \"summary\": summary\n",
    "                })\n",
    "                \n",
    "                # Create metadata entry with source file information\n",
    "                metadata_entry = amendment.copy()\n",
    "                metadata_entry[\"source_file\"] = json_file.name\n",
    "                metadata_entry[\"index\"] = len(all_metadata)  # Global index across all files\n",
    "                all_metadata.append(metadata_entry)\n",
    "                \n",
    "                pbar.update(1)\n",
    "    \n",
    "    # Save combined summaries file\n",
    "    with open(combined_summaries_path, 'w') as f:\n",
    "        json.dump(all_summaries, f, indent=2)\n",
    "    \n",
    "    # Save combined metadata file\n",
    "    with open(combined_metadata_path, 'w') as f:\n",
    "        json.dump(all_metadata, f, indent=2)\n",
    "    \n",
    "    print(f\"\\nProcessed {len(all_summaries)} total amendments from {len(json_files)} files\")\n",
    "    print(f\"Combined summaries saved to: {combined_summaries_path}\")\n",
    "    print(f\"Combined metadata saved to: {combined_metadata_path}\")\n",
    "\n",
    "if __name__ == \"__main__\":\n",
    "    main()"
   ]
  },
  {
   "cell_type": "markdown",
   "id": "41b1d44d",
   "metadata": {},
   "source": [
    "VECTOR DB"
   ]
  },
  {
   "cell_type": "code",
   "execution_count": 33,
   "id": "a48b64a9",
   "metadata": {},
   "outputs": [
    {
     "name": "stdout",
     "output_type": "stream",
     "text": [
      "Loading files...\n",
      "Preparing texts...\n",
      "Creating embeddings for 6448 documents...\n",
      "Using model: all-MiniLM-L6-v2\n",
      "Generating embeddings...\n"
     ]
    },
    {
     "data": {
      "application/vnd.jupyter.widget-view+json": {
       "model_id": "c2b3e4d3108f476cb187a6f540b1d7a4",
       "version_major": 2,
       "version_minor": 0
      },
      "text/plain": [
       "Batches:   0%|          | 0/202 [00:00<?, ?it/s]"
      ]
     },
     "metadata": {},
     "output_type": "display_data"
    },
    {
     "name": "stdout",
     "output_type": "stream",
     "text": [
      "Creating and saving FAISS index...\n",
      "Creating FAISS index with dimension 384\n",
      "Creating FlatL2 index...\n",
      "Adding vectors to index...\n",
      "Index saved to /workspace/rohith_llm/Extracted/Structured/Summary/Vector_DB/embeddings.faiss\n",
      "Saving metadata...\n",
      "Metadata saved to /workspace/rohith_llm/Extracted/Structured/Summary/Vector_DB/metadata.json\n",
      "\n",
      "Summary:\n",
      "- Processed 6448 documents\n",
      "- Created 384-dimensional embeddings\n",
      "- Index and metadata saved in /workspace/rohith_llm/Extracted/Structured/Summary/Vector_DB\n"
     ]
    }
   ],
   "source": [
    "import json\n",
    "import faiss\n",
    "import numpy as np\n",
    "from sentence_transformers import SentenceTransformer\n",
    "import os\n",
    "from pathlib import Path\n",
    "\n",
    "def load_files(summaries_path, metadata_path):\n",
    "    \"\"\"Load both summaries and metadata files.\"\"\"\n",
    "    with open(summaries_path, 'r') as f:\n",
    "        summaries = json.load(f)\n",
    "    with open(metadata_path, 'r') as f:\n",
    "        metadata = json.load(f)\n",
    "    return summaries, metadata\n",
    "\n",
    "def prepare_texts(summaries, metadata):\n",
    "    \"\"\"Prepare texts for embedding by combining summaries with key metadata.\"\"\"\n",
    "    texts = []\n",
    "    processed_metadata = []\n",
    "    \n",
    "    for idx, (summary_obj, meta) in enumerate(zip(summaries, metadata)):\n",
    "        # Extract summary text from object\n",
    "        summary = list(summary_obj)[0]  # Since each summary is stored as a single-item set\n",
    "        \n",
    "        # Create enriched text for embedding\n",
    "        text_parts = [\n",
    "            summary,\n",
    "            f\"Rule {meta.get('Rule no.', '')}\" if meta.get('Rule no.') else '',\n",
    "            meta.get('Description', '')\n",
    "        ]\n",
    "        text = ' '.join(filter(None, text_parts))\n",
    "        \n",
    "        if text.strip():\n",
    "            texts.append(text)\n",
    "            # Keep original metadata structure and add index\n",
    "            meta_entry = meta.copy()\n",
    "            meta_entry['summary'] = summary\n",
    "            processed_metadata.append(meta_entry)\n",
    "    \n",
    "    return texts, processed_metadata\n",
    "\n",
    "def create_embeddings(texts, model_name='all-MiniLM-L6-v2', batch_size=32):\n",
    "    \"\"\"Create embeddings using SentenceTransformer.\"\"\"\n",
    "    print(f\"Using model: {model_name}\")\n",
    "    model = SentenceTransformer(model_name, device='cpu')\n",
    "    \n",
    "    print(\"Generating embeddings...\")\n",
    "    embeddings = model.encode(texts, \n",
    "                            show_progress_bar=True, \n",
    "                            batch_size=batch_size)\n",
    "    return embeddings\n",
    "\n",
    "def create_faiss_index(embeddings, save_dir):\n",
    "    \"\"\"Create and save FAISS index using L2 distance.\"\"\"\n",
    "    os.makedirs(save_dir, exist_ok=True)\n",
    "    \n",
    "    dimension = embeddings.shape[1]\n",
    "    print(f\"Creating FAISS index with dimension {dimension}\")\n",
    "    \n",
    "    # Convert to float32 for FAISS compatibility\n",
    "    embeddings = embeddings.astype('float32')\n",
    "    \n",
    "    # Create FlatL2 index\n",
    "    print(\"Creating FlatL2 index...\")\n",
    "    index = faiss.IndexFlatL2(dimension)\n",
    "    \n",
    "    # Add vectors to the index\n",
    "    print(\"Adding vectors to index...\")\n",
    "    index.add(embeddings)\n",
    "    \n",
    "    # Save the index\n",
    "    index_path = os.path.join(save_dir, 'embeddings.faiss')\n",
    "    faiss.write_index(index, index_path)\n",
    "    print(f\"Index saved to {index_path}\")\n",
    "    return index\n",
    "\n",
    "def save_metadata(metadata, save_dir):\n",
    "    \"\"\"Save processed metadata.\"\"\"\n",
    "    metadata_path = os.path.join(save_dir, 'metadata.json')\n",
    "    with open(metadata_path, 'w') as f:\n",
    "        json.dump(metadata, f, indent=2)\n",
    "    print(f\"Metadata saved to {metadata_path}\")\n",
    "\n",
    "def main():\n",
    "    # Setup paths\n",
    "    base_path = Path('/workspace/rohith_llm/Extracted/Structured/Summary')\n",
    "    summaries_path = base_path / 'Combined_Summaries.json' \n",
    "    metadata_path = base_path / 'Combined_Metadata.json'\n",
    "    save_dir = base_path / 'Vector_DB'\n",
    "    \n",
    "    print(\"Loading files...\")\n",
    "    summaries, metadata = load_files(summaries_path, metadata_path)\n",
    "    \n",
    "    print(\"Preparing texts...\")\n",
    "    texts, processed_metadata = prepare_texts(summaries, metadata)\n",
    "    \n",
    "    print(f\"Creating embeddings for {len(texts)} documents...\")\n",
    "    embeddings = create_embeddings(texts)\n",
    "    \n",
    "    print(\"Creating and saving FAISS index...\")\n",
    "    index = create_faiss_index(embeddings, save_dir)\n",
    "    \n",
    "    print(\"Saving metadata...\")\n",
    "    save_metadata(processed_metadata, save_dir)\n",
    "    \n",
    "    print(\"\\nSummary:\")\n",
    "    print(f\"- Processed {len(texts)} documents\")\n",
    "    print(f\"- Created {embeddings.shape[1]}-dimensional embeddings\")\n",
    "    print(f\"- Index and metadata saved in {save_dir}\")\n",
    "\n",
    "if __name__ == \"__main__\":\n",
    "    main()"
   ]
  },
  {
   "cell_type": "code",
   "execution_count": 2,
   "id": "5981dd84",
   "metadata": {},
   "outputs": [
    {
     "name": "stdout",
     "output_type": "stream",
     "text": [
      "Loading files...\n"
     ]
    },
    {
     "name": "stderr",
     "output_type": "stream",
     "text": [
      "Loading files: 100%|███████████████████████████████████████████████████████████████████████████████████████████████████████████████████████████████| 2/2 [00:00<00:00, 56.50it/s]\n",
      "Preparing texts: 100%|███████████████████████████████████████████████████████████████████████████████████████████████████████████████████| 6293/6293 [00:00<00:00, 441679.30it/s]"
     ]
    },
    {
     "name": "stdout",
     "output_type": "stream",
     "text": [
      "Creating embeddings for 6293 documents...\n",
      "Using model: all-MiniLM-L6-v2\n"
     ]
    },
    {
     "name": "stderr",
     "output_type": "stream",
     "text": [
      "\n"
     ]
    },
    {
     "name": "stdout",
     "output_type": "stream",
     "text": [
      "Generating embeddings...\n"
     ]
    },
    {
     "data": {
      "application/vnd.jupyter.widget-view+json": {
       "model_id": "f73701c2ba2342f7a1d2ca5c48fd6bff",
       "version_major": 2,
       "version_minor": 0
      },
      "text/plain": [
       "Batches:   0%|          | 0/197 [00:00<?, ?it/s]"
      ]
     },
     "metadata": {},
     "output_type": "display_data"
    },
    {
     "name": "stdout",
     "output_type": "stream",
     "text": [
      "Creating and saving FAISS index...\n",
      "Creating FAISS index with dimension 384\n",
      "Creating FlatL2 index...\n",
      "Adding vectors to index...\n"
     ]
    },
    {
     "name": "stderr",
     "output_type": "stream",
     "text": [
      "Adding to FAISS: 100%|████████████████████████████████████████████████████████████████████████████████████████████████████████████████████████████| 7/7 [00:00<00:00, 686.27it/s]\n"
     ]
    },
    {
     "name": "stdout",
     "output_type": "stream",
     "text": [
      "Index saved to /workspace/rohith_llm/Extracted/Structured/Summary/Vector_DB/embeddings.faiss\n",
      "Saving metadata...\n"
     ]
    },
    {
     "name": "stderr",
     "output_type": "stream",
     "text": [
      "Saving metadata: 100%|█████████████████████████████████████████████████████████████████████████████████████████████████████████████████████████████| 1/1 [00:00<00:00,  7.88it/s]"
     ]
    },
    {
     "name": "stdout",
     "output_type": "stream",
     "text": [
      "Metadata saved to /workspace/rohith_llm/Extracted/Structured/Summary/Vector_DB/metadata.json\n",
      "\n",
      "Summary:\n",
      "- Processed 6293 documents\n",
      "- Created 384-dimensional embeddings\n",
      "- Index and metadata saved in /workspace/rohith_llm/Extracted/Structured/Summary/Vector_DB\n"
     ]
    },
    {
     "name": "stderr",
     "output_type": "stream",
     "text": [
      "\n"
     ]
    }
   ],
   "source": [
    "import json\n",
    "import faiss\n",
    "import numpy as np\n",
    "from sentence_transformers import SentenceTransformer\n",
    "import os\n",
    "from pathlib import Path\n",
    "from tqdm import tqdm\n",
    "\n",
    "def load_files(summaries_path, metadata_path):\n",
    "    \"\"\"Load both summaries and metadata files.\"\"\"\n",
    "    with open(summaries_path, 'r') as f:\n",
    "        summaries = json.load(f)\n",
    "    with open(metadata_path, 'r') as f:\n",
    "        metadata = json.load(f)\n",
    "    return summaries, metadata\n",
    "\n",
    "def prepare_texts(summaries, metadata):\n",
    "    \"\"\"Prepare texts for embedding by combining summaries with key metadata.\"\"\"\n",
    "    texts = []\n",
    "    processed_metadata = []\n",
    "    \n",
    "    # Add tqdm progress bar for text preparation\n",
    "    for idx, (summary_obj, meta) in enumerate(tqdm(zip(summaries, metadata), \n",
    "                                                  total=len(summaries),\n",
    "                                                  desc=\"Preparing texts\")):\n",
    "        # Extract summary text from object\n",
    "        summary = list(summary_obj)[0]  # Since each summary is stored as a single-item set\n",
    "        \n",
    "        # Create enriched text for embedding\n",
    "        text_parts = [\n",
    "            summary,\n",
    "            f\"Rule {meta.get('Rule no.', '')}\" if meta.get('Rule no.') else '',\n",
    "            meta.get('Description', '')\n",
    "        ]\n",
    "        text = ' '.join(filter(None, text_parts))\n",
    "        \n",
    "        if text.strip():\n",
    "            texts.append(text)\n",
    "            # Keep original metadata structure and add index\n",
    "            meta_entry = meta.copy()\n",
    "            meta_entry['summary'] = summary\n",
    "            processed_metadata.append(meta_entry)\n",
    "    \n",
    "    return texts, processed_metadata\n",
    "\n",
    "def create_embeddings(texts, model_name='all-MiniLM-L6-v2', batch_size=32):\n",
    "    \"\"\"Create embeddings using SentenceTransformer.\"\"\"\n",
    "    print(f\"Using model: {model_name}\")\n",
    "    model = SentenceTransformer(model_name, device='cpu')\n",
    "    \n",
    "    print(\"Generating embeddings...\")\n",
    "    # SentenceTransformer already uses tqdm when show_progress_bar=True\n",
    "    embeddings = model.encode(texts, \n",
    "                            show_progress_bar=True, \n",
    "                            batch_size=batch_size)\n",
    "    return embeddings\n",
    "\n",
    "def create_faiss_index(embeddings, save_dir):\n",
    "    \"\"\"Create and save FAISS index using L2 distance.\"\"\"\n",
    "    os.makedirs(save_dir, exist_ok=True)\n",
    "    \n",
    "    dimension = embeddings.shape[1]\n",
    "    print(f\"Creating FAISS index with dimension {dimension}\")\n",
    "    \n",
    "    # Convert to float32 for FAISS compatibility\n",
    "    embeddings = embeddings.astype('float32')\n",
    "    \n",
    "    # Create FlatL2 index\n",
    "    print(\"Creating FlatL2 index...\")\n",
    "    index = faiss.IndexFlatL2(dimension)\n",
    "    \n",
    "    # Add vectors to the index with progress bar\n",
    "    print(\"Adding vectors to index...\")\n",
    "    batch_size = 1000\n",
    "    for i in tqdm(range(0, len(embeddings), batch_size), desc=\"Adding to FAISS\"):\n",
    "        batch = embeddings[i:i + batch_size]\n",
    "        index.add(batch)\n",
    "    \n",
    "    # Save the index\n",
    "    index_path = os.path.join(save_dir, 'embeddings.faiss')\n",
    "    faiss.write_index(index, index_path)\n",
    "    print(f\"Index saved to {index_path}\")\n",
    "    return index\n",
    "\n",
    "def save_metadata(metadata, save_dir):\n",
    "    \"\"\"Save processed metadata.\"\"\"\n",
    "    metadata_path = os.path.join(save_dir, 'metadata.json')\n",
    "    with tqdm(total=1, desc=\"Saving metadata\") as pbar:\n",
    "        with open(metadata_path, 'w') as f:\n",
    "            json.dump(metadata, f, indent=2)\n",
    "        pbar.update(1)\n",
    "    print(f\"Metadata saved to {metadata_path}\")\n",
    "\n",
    "def main():\n",
    "    # Setup paths\n",
    "    base_path = Path('/workspace/rohith_llm/Extracted/Structured/Summary')\n",
    "    summaries_path = base_path / 'Combined_Summaries.json' \n",
    "    metadata_path = base_path / 'Combined_Metadata.json'\n",
    "    save_dir = base_path / 'Vector_DB'\n",
    "    \n",
    "    print(\"Loading files...\")\n",
    "    with tqdm(total=2, desc=\"Loading files\") as pbar:\n",
    "        summaries, metadata = load_files(summaries_path, metadata_path)\n",
    "        pbar.update(2)\n",
    "    \n",
    "    texts, processed_metadata = prepare_texts(summaries, metadata)\n",
    "    \n",
    "    print(f\"Creating embeddings for {len(texts)} documents...\")\n",
    "    embeddings = create_embeddings(texts)\n",
    "    \n",
    "    print(\"Creating and saving FAISS index...\")\n",
    "    index = create_faiss_index(embeddings, save_dir)\n",
    "    \n",
    "    print(\"Saving metadata...\")\n",
    "    save_metadata(processed_metadata, save_dir)\n",
    "    \n",
    "    print(\"\\nSummary:\")\n",
    "    print(f\"- Processed {len(texts)} documents\")\n",
    "    print(f\"- Created {embeddings.shape[1]}-dimensional embeddings\")\n",
    "    print(f\"- Index and metadata saved in {save_dir}\")\n",
    "\n",
    "if __name__ == \"__main__\":\n",
    "    main()"
   ]
  }
 ],
 "metadata": {
  "kernelspec": {
   "display_name": "Python 3 (ipykernel)",
   "language": "python",
   "name": "python3"
  },
  "language_info": {
   "codemirror_mode": {
    "name": "ipython",
    "version": 3
   },
   "file_extension": ".py",
   "mimetype": "text/x-python",
   "name": "python",
   "nbconvert_exporter": "python",
   "pygments_lexer": "ipython3",
   "version": "3.8.10"
  }
 },
 "nbformat": 4,
 "nbformat_minor": 5
}
